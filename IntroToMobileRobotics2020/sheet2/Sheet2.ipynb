{
 "cells": [
  {
   "cell_type": "code",
   "execution_count": 1,
   "metadata": {},
   "outputs": [],
   "source": [
    "import math\n",
    "from math import sin, cos\n",
    "import numpy as np"
   ]
  },
  {
   "cell_type": "code",
   "execution_count": 2,
   "metadata": {},
   "outputs": [],
   "source": [
    "def diffdrive(x, y, theta, v_l, v_r, t, l):\n",
    "    if abs(v_r - v_l) > 1e-6:\n",
    "        icc_r = l/2.0 * (v_r + v_l) / (v_r - v_l)\n",
    "        omega = (v_r - v_l)/l\n",
    "        icc_x = x - icc_r * sin(theta) \n",
    "        icc_y = y + icc_r * cos(theta)\n",
    "        angle = omega * t\n",
    "        rotation_icc = np.array([[cos(angle), -sin(angle),0],\n",
    "                                 [sin(angle), cos(angle),0],\n",
    "                                 [0,0,1.0]],dtype=np.float)\n",
    "        new_pose = rotation_icc @ \\\n",
    "            np.array([[x-icc_x],[y-icc_y],[theta]],dtype=np.float) + \\\n",
    "            np.array([[icc_x],[icc_y],[angle]],dtype=np.float)\n",
    "        x_n, y_n, theta_n = new_pose.squeeze()\n",
    "    else:\n",
    "        v = (v_r + v_l)/2.0\n",
    "        vx, vy = v * cos(theta), v * sin(theta)\n",
    "        x_n, y_n = vx * t + x, vy * t + y\n",
    "        theta_n = theta\n",
    "    return x_n, y_n, theta_n"
   ]
  },
  {
   "cell_type": "code",
   "execution_count": 3,
   "metadata": {},
   "outputs": [
    {
     "name": "stdout",
     "output_type": "stream",
     "text": [
      "(1.5, 2.9, 1.5707963267948966)\n",
      "(1.5, 2.9, 1.1707963267948966)\n",
      "(1.6396758098815527, 3.035655185914644, 0.3707963267948966)\n"
     ]
    }
   ],
   "source": [
    "commands = [(0.3,0.3,3.0),\n",
    "            (0.1,-0.1,1.0),\n",
    "            (0.2,0,2)\n",
    "           ]\n",
    "init_pose = position = (1.5,2.0,math.pi/2.0)\n",
    "l = 0.5\n",
    "for command in commands:\n",
    "    position = diffdrive(*position, *command, l)\n",
    "    print(position)"
   ]
  }
 ],
 "metadata": {
  "kernelspec": {
   "display_name": "Python 3.7.7 64-bit ('robo37': conda)",
   "language": "python",
   "name": "python37764bitrobo37conda5d5bb05ba5df456180d13dc4509db3f7"
  },
  "language_info": {
   "codemirror_mode": {
    "name": "ipython",
    "version": 3
   },
   "file_extension": ".py",
   "mimetype": "text/x-python",
   "name": "python",
   "nbconvert_exporter": "python",
   "pygments_lexer": "ipython3",
   "version": "3.7.7"
  }
 },
 "nbformat": 4,
 "nbformat_minor": 4
}
