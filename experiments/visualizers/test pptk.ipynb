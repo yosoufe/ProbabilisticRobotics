{
 "cells": [
  {
   "cell_type": "code",
   "execution_count": 1,
   "id": "dried-neutral",
   "metadata": {},
   "outputs": [],
   "source": [
    "import numpy as np\n",
    "import laspy as lp\n",
    "import pptk\n",
    "input_path=\"../../../data/\"\n",
    "dataname=\"2020_Drone_M\"\n",
    "point_cloud=lp.file.File(input_path+dataname+\".las\", mode=\"r\")"
   ]
  },
  {
   "cell_type": "code",
   "execution_count": 2,
   "id": "systematic-terminology",
   "metadata": {},
   "outputs": [],
   "source": [
    "points = np.vstack((point_cloud.x, point_cloud.y, point_cloud.z)).transpose()\n",
    "colors = np.vstack((point_cloud.red, point_cloud.green, point_cloud.blue)).transpose()"
   ]
  },
  {
   "cell_type": "code",
   "execution_count": 3,
   "id": "super-pocket",
   "metadata": {},
   "outputs": [],
   "source": [
    "v = pptk.viewer(points)"
   ]
  },
  {
   "cell_type": "code",
   "execution_count": 4,
   "id": "seasonal-universal",
   "metadata": {},
   "outputs": [],
   "source": [
    "v.attributes(colors/65535)"
   ]
  },
  {
   "cell_type": "code",
   "execution_count": 5,
   "id": "fifteen-three",
   "metadata": {},
   "outputs": [],
   "source": [
    "v.color_map('cool')\n",
    "v.set(point_size=0.001,bg_color=[0,0,0,0],show_axis=0,show_grid=0)"
   ]
  },
  {
   "cell_type": "code",
   "execution_count": 6,
   "id": "coated-glory",
   "metadata": {},
   "outputs": [],
   "source": [
    "v.reset()"
   ]
  },
  {
   "cell_type": "code",
   "execution_count": 7,
   "id": "metallic-genesis",
   "metadata": {},
   "outputs": [],
   "source": [
    "import time\n",
    "for i in range(10,1000, 10):\n",
    "    factor=i\n",
    "    v.load(points[::factor])\n",
    "    v.attributes(colors[::factor]/65535)\n",
    "    time.sleep(0.01)"
   ]
  }
 ],
 "metadata": {
  "kernelspec": {
   "display_name": "Python 3",
   "language": "python",
   "name": "python3"
  },
  "language_info": {
   "codemirror_mode": {
    "name": "ipython",
    "version": 3
   },
   "file_extension": ".py",
   "mimetype": "text/x-python",
   "name": "python",
   "nbconvert_exporter": "python",
   "pygments_lexer": "ipython3",
   "version": "3.7.8"
  }
 },
 "nbformat": 4,
 "nbformat_minor": 5
}
