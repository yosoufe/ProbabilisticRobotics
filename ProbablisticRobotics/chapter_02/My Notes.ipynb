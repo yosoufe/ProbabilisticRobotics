{
 "cells": [
  {
   "cell_type": "markdown",
   "metadata": {},
   "source": [
    "# Belief\n",
    "\n",
    "$$\n",
    "\\begin{align}\n",
    "bel(x_t) & = p(x_t  | z_{1:t}, u_{1:t}) \\\\\n",
    "\\overline{bel}(x_t) & = p(x_t|z_{1:t-1}, u_{1:t})\n",
    "\\end{align}\n",
    "$$\n",
    "\n"
   ]
  },
  {
   "cell_type": "markdown",
   "metadata": {},
   "source": [
    "# Bayes Filter\n",
    "\n",
    "![Bayes Filter Psuedo code](../images/bayesFilter.PNG)"
   ]
  },
  {
   "cell_type": "markdown",
   "metadata": {},
   "source": [
    "* Line 3: Prediction Step\n",
    "* Line 4: Measurement Step"
   ]
  },
  {
   "cell_type": "markdown",
   "metadata": {},
   "source": [
    "# Example"
   ]
  },
  {
   "cell_type": "code",
   "execution_count": 6,
   "metadata": {},
   "outputs": [],
   "source": [
    "p0_open = 0.5\n",
    "p0_close = 1 - p0_open\n",
    "p_sOpen_g_isOpen = 0.6\n",
    "p_sClose_g_isOpen = 1 - p_sOpen_g_isOpen\n",
    "p_sOpen_g_isClose = 0.2\n",
    "p_sClose_g_isClose = 1 - p_sOpen_g_isClose\n",
    "\n",
    "p_isOpen_g_push_isOpen = 1\n",
    "p_isClose_g_push_isOpen = 0\n",
    "p_isOpen_g_push_isClose = 0.8\n",
    "p_isClose_g_push_isClose = 0.2\n",
    "\n",
    "# doing nothing does not chage the state."
   ]
  },
  {
   "cell_type": "code",
   "execution_count": 8,
   "metadata": {},
   "outputs": [
    {
     "name": "stdout",
     "output_type": "stream",
     "text": [
      "0.7499999999999999 0.25\n"
     ]
    }
   ],
   "source": [
    "# t = 1, no control, sense the door is open\n",
    "bel_bar_isOpen = p0_open * 1 + p0_close * 0\n",
    "bel_bar_isClose = 0.5\n",
    "\n",
    "# incorporate measurement\n",
    "bel_open = bel_bar_isOpen * p_sOpen_g_isOpen\n",
    "bel_close = bel_bar_isClose * p_sOpen_g_isClose\n",
    "norm = bel_open + bel_close\n",
    "bel_open, bel_close = bel_open/norm , bel_close/norm\n",
    "print(bel_open, bel_close)"
   ]
  },
  {
   "cell_type": "code",
   "execution_count": 18,
   "metadata": {},
   "outputs": [
    {
     "name": "stdout",
     "output_type": "stream",
     "text": [
      "bel_bar_isOpen 0.5\n",
      "bel_open 0.7499999999999999 bel_close 0.25\n",
      "bel_bar_isOpen 0.95\n",
      "bel_open 0.9827586206896551 bel_close 0.017241379310344845\n"
     ]
    }
   ],
   "source": [
    "# refactor the above\n",
    "def bayes_filter(bel_is_open, push, sense_is_open):\n",
    "    # constants\n",
    "    p_sOpen_g_isOpen = 0.6\n",
    "    p_sClose_g_isOpen = 1.0 - p_sOpen_g_isOpen\n",
    "    p_sOpen_g_isClose = 0.2\n",
    "    p_sClose_g_isClose = 1.0 - p_sOpen_g_isClose\n",
    "\n",
    "    p_isOpen_g_push_isOpen = 1.0\n",
    "    p_isClose_g_push_isOpen = 0.0\n",
    "    p_isOpen_g_push_isClose = 0.8\n",
    "    p_isClose_g_push_isClose = 0.2\n",
    "    \n",
    "    p_isOpen_g_NoPush_isOpen = 1.0\n",
    "    p_isClose_g_NoPush_isOpen = 0.0\n",
    "    p_isOpen_g_NoPush_isClose = 0.0\n",
    "    p_isClose_g_NoPush_isClose = 1.0\n",
    "    \n",
    "    # prediction step\n",
    "    if push:\n",
    "        bel_bar_isOpen = bel_is_open * p_isOpen_g_push_isOpen + \\\n",
    "                          (1.0-bel_is_open) * p_isOpen_g_push_isClose\n",
    "    else: \n",
    "        bel_bar_isOpen = bel_is_open * p_isOpen_g_NoPush_isOpen + \\\n",
    "                          (1-bel_is_open) * p_isOpen_g_NoPush_isClose\n",
    "    bel_bar_isClose = 1- bel_bar_isOpen\n",
    "    print(\"bel_bar_isOpen\", bel_bar_isOpen)\n",
    "    \n",
    "    # measurement step\n",
    "    if sense_is_open:\n",
    "        bel_open = bel_bar_isOpen * p_sOpen_g_isOpen\n",
    "        bel_close = bel_bar_isClose * p_sOpen_g_isClose\n",
    "    else: \n",
    "        bel_open = bel_bar_isOpen * p_sClose_g_isOpen\n",
    "        bel_close = bel_bar_isClose * p_sClose_g_isClose\n",
    "    \n",
    "    norm = bel_open + bel_close\n",
    "    bel_open, bel_close = bel_open/norm , bel_close/norm\n",
    "    print(\"bel_open\", bel_open, \"bel_close\", bel_close)\n",
    "    return bel_open\n",
    "\n",
    "bel_open = bayes_filter(0.5, False, True)\n",
    "bel_open = bayes_filter(bel_open, True, True)"
   ]
  }
 ],
 "metadata": {
  "kernelspec": {
   "display_name": "Python 3.7 (robo37)",
   "language": "python",
   "name": "robo37"
  },
  "language_info": {
   "codemirror_mode": {
    "name": "ipython",
    "version": 3
   },
   "file_extension": ".py",
   "mimetype": "text/x-python",
   "name": "python",
   "nbconvert_exporter": "python",
   "pygments_lexer": "ipython3",
   "version": "3.7.7"
  }
 },
 "nbformat": 4,
 "nbformat_minor": 2
}
