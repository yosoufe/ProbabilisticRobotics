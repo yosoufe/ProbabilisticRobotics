{
 "cells": [
  {
   "cell_type": "markdown",
   "metadata": {},
   "source": [
    "# Belief\n",
    "\n",
    "$$\n",
    "\\begin{align}\n",
    "bel(x_t) & = p(x_t  | z_{1:t}, u_{1:t}) \\\\\n",
    "\\overline{bel}(x_t) & = p(x_t|z_{1:t-1}, u_{1:t})\n",
    "\\end{align}\n",
    "$$\n",
    "\n"
   ]
  },
  {
   "cell_type": "markdown",
   "metadata": {},
   "source": [
    "# Bayes Filter\n",
    "\n",
    "![Bayes Filter Psuedo code](../images/bayesFilter.PNG)"
   ]
  }
 ],
 "metadata": {
  "kernelspec": {
   "display_name": "Python 3.7 (robo37)",
   "language": "python",
   "name": "robo37"
  },
  "language_info": {
   "codemirror_mode": {
    "name": "ipython",
    "version": 3
   },
   "file_extension": ".py",
   "mimetype": "text/x-python",
   "name": "python",
   "nbconvert_exporter": "python",
   "pygments_lexer": "ipython3",
   "version": "3.7.7"
  }
 },
 "nbformat": 4,
 "nbformat_minor": 2
}
