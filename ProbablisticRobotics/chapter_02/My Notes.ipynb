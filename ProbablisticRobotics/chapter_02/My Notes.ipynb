{
 "cells": [
  {
   "cell_type": "markdown",
   "metadata": {},
   "source": [
    "# Bayes Rule\n",
    "\n",
    "$$\n",
    "\\begin{align}\n",
    "p(x|y) &= \\dfrac{p(y|x)p(x)}{p(y)} \\\\\n",
    "p(y) &= \\sum_{x'}p(y|x')p(x'), \\text{(discrete)} \\\\\n",
    "p(y) &= \\int p(y|x')p(x')dx', \\text{(continuous)}\n",
    "\\end{align}\n",
    "$$\n",
    "\n",
    "And for multiple conditional variables:\n",
    "\n",
    "$$\n",
    "p(x|y,z) = \\dfrac{p(y|x,z)p(x|z)}{p(y|z)}\n",
    "$$\n"
   ]
  },
  {
   "cell_type": "markdown",
   "metadata": {},
   "source": [
    "# Belief\n",
    "\n",
    "$$\n",
    "\\begin{align}\n",
    "bel(x_t) & = p(x_t  | z_{1:t}, u_{1:t}) \\\\\n",
    "\\overline{bel}(x_t) & = p(x_t|z_{1:t-1}, u_{1:t})\n",
    "\\end{align}\n",
    "$$\n",
    "\n"
   ]
  },
  {
   "cell_type": "markdown",
   "metadata": {},
   "source": [
    "# Bayes Filter\n",
    "\n",
    "![Bayes Filter Psuedo code](../images/bayesFilter.PNG)"
   ]
  },
  {
   "cell_type": "markdown",
   "metadata": {},
   "source": [
    "* Line 3: Prediction Step\n",
    "* Line 4: Measurement Step"
   ]
  },
  {
   "cell_type": "markdown",
   "metadata": {},
   "source": [
    "# 2.4.2 Example"
   ]
  },
  {
   "cell_type": "code",
   "execution_count": 1,
   "metadata": {},
   "outputs": [
    {
     "name": "stdout",
     "output_type": "stream",
     "text": [
      "bel_bar_isOpen 0.5\n",
      "bel_open 0.7499999999999999 bel_close 0.25\n",
      "bel_bar_isOpen 0.95\n",
      "bel_open 0.9827586206896551 bel_close 0.017241379310344845\n"
     ]
    }
   ],
   "source": [
    "# Example in section 2.4.2 of the book\n",
    "def bayes_filter(bel_is_open, push, sense_is_open):\n",
    "    # constants\n",
    "    p_sOpen_g_isOpen = 0.6\n",
    "    p_sClose_g_isOpen = 1.0 - p_sOpen_g_isOpen\n",
    "    p_sOpen_g_isClose = 0.2\n",
    "    p_sClose_g_isClose = 1.0 - p_sOpen_g_isClose\n",
    "\n",
    "    p_isOpen_g_push_isOpen = 1.0\n",
    "    p_isClose_g_push_isOpen = 0.0\n",
    "    p_isOpen_g_push_isClose = 0.8\n",
    "    p_isClose_g_push_isClose = 0.2\n",
    "    \n",
    "    p_isOpen_g_NoPush_isOpen = 1.0\n",
    "    p_isClose_g_NoPush_isOpen = 0.0\n",
    "    p_isOpen_g_NoPush_isClose = 0.0\n",
    "    p_isClose_g_NoPush_isClose = 1.0\n",
    "    \n",
    "    # prediction step\n",
    "    if push:\n",
    "        bel_bar_isOpen = bel_is_open * p_isOpen_g_push_isOpen + \\\n",
    "                          (1.0-bel_is_open) * p_isOpen_g_push_isClose\n",
    "    else: \n",
    "        bel_bar_isOpen = bel_is_open * p_isOpen_g_NoPush_isOpen + \\\n",
    "                          (1-bel_is_open) * p_isOpen_g_NoPush_isClose\n",
    "    bel_bar_isClose = 1- bel_bar_isOpen\n",
    "    print(\"bel_bar_isOpen\", bel_bar_isOpen)\n",
    "    \n",
    "    # measurement step\n",
    "    if sense_is_open:\n",
    "        bel_open = bel_bar_isOpen * p_sOpen_g_isOpen\n",
    "        bel_close = bel_bar_isClose * p_sOpen_g_isClose\n",
    "    else: \n",
    "        bel_open = bel_bar_isOpen * p_sClose_g_isOpen\n",
    "        bel_close = bel_bar_isClose * p_sClose_g_isClose\n",
    "    \n",
    "    norm = bel_open + bel_close\n",
    "    bel_open, bel_close = bel_open/norm , bel_close/norm\n",
    "    print(\"bel_open\", bel_open, \"bel_close\", bel_close)\n",
    "    return bel_open\n",
    "\n",
    "bel_open = bayes_filter(0.5, False, True)\n",
    "bel_open = bayes_filter(bel_open, True, True)"
   ]
  },
  {
   "cell_type": "markdown",
   "metadata": {},
   "source": [
    "# 2.8 Exercises"
   ]
  },
  {
   "cell_type": "markdown",
   "metadata": {},
   "source": [
    "## 2.8.1 \n",
    "$$\n",
    "\\begin{align}\n",
    "p(\\text{measurement}) &= \\text{Uniform}(0,3) \\\\\n",
    "p(\\text{measurement} | \\text{sensor is faulty}) &= \\text{Uniform(0,1)}, \\text{If faulty, it always outputs below 1} \\\\\n",
    "p(\\text{sensor is faulty at time 0}) &= 0.01\n",
    "\\end{align}\n",
    "$$\n",
    "\n",
    "Suppose sensor does n times measurement and every measurement is under 1 m. What is the posterior probability of sensor being faulty for $n=1, 2, ..., 10$"
   ]
  },
  {
   "cell_type": "code",
   "execution_count": 2,
   "metadata": {},
   "outputs": [
    {
     "name": "stdout",
     "output_type": "stream",
     "text": [
      "0 0.029411764705882356 0.9705882352941176\n",
      "1 0.08333333333333336 0.9166666666666666\n",
      "2 0.21428571428571433 0.7857142857142856\n",
      "3 0.4500000000000001 0.5499999999999999\n",
      "4 0.7105263157894738 0.28947368421052616\n",
      "5 0.8804347826086957 0.1195652173913043\n",
      "6 0.9566929133858268 0.04330708661417322\n",
      "7 0.9851351351351352 0.014864864864864838\n",
      "8 0.9949954504094632 0.005004549590536838\n",
      "9 0.9983262325015216 0.0016737674984783609\n"
     ]
    }
   ],
   "source": [
    "def bayes_filter(bel_faulty):\n",
    "    \n",
    "    # prediction:\n",
    "    p_faulty_g_faulty = 1.0\n",
    "    p_Nfaulty_g_faulty = 0.0\n",
    "    p_faulty_g_Nfaulty = 0.0\n",
    "    p_Nfaulty_g_Nfaulty = 1.0\n",
    "    \n",
    "    bel_bar_faulty = bel_faulty * p_faulty_g_faulty + (1-bel_faulty) * p_faulty_g_Nfaulty\n",
    "    bel_bar_Nfaulty = 1 - bel_bar_faulty\n",
    "    # basically nothing changes in prediction step.\n",
    "    # and bel_bar_faulty = bel_faulty\n",
    "    # because we do not have any action here?\n",
    "    \n",
    "    # measurement\n",
    "    p_measerment_under_1_g_faulty = 1.0\n",
    "    p_measerment_under_1_g_Nfaulty = 1.0/3.0\n",
    "    bel_faulty = bel_bar_faulty * p_measerment_under_1_g_faulty\n",
    "    bel_Nfaulty = bel_bar_Nfaulty * p_measerment_under_1_g_Nfaulty\n",
    "    \n",
    "    # normalization\n",
    "    s = bel_faulty+ bel_Nfaulty\n",
    "    bel_faulty, bel_Nfaulty = bel_faulty/s, bel_Nfaulty/s\n",
    "    return bel_faulty, bel_Nfaulty\n",
    "\n",
    "bel_faulty = 0.01\n",
    "for idx in range(10):\n",
    "    bel_faulty, bel_Nfaulty= bayes_filter(bel_faulty)\n",
    "    print (idx, bel_faulty, bel_Nfaulty)"
   ]
  }
 ],
 "metadata": {
  "kernelspec": {
   "display_name": "Python 3.7.7 64-bit ('robo37': conda)",
   "language": "python",
   "name": "python37764bitrobo37conda5d5bb05ba5df456180d13dc4509db3f7"
  },
  "language_info": {
   "codemirror_mode": {
    "name": "ipython",
    "version": 3
   },
   "file_extension": ".py",
   "mimetype": "text/x-python",
   "name": "python",
   "nbconvert_exporter": "python",
   "pygments_lexer": "ipython3",
   "version": "3.7.7"
  }
 },
 "nbformat": 4,
 "nbformat_minor": 2
}
