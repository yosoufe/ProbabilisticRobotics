{
 "cells": [
  {
   "cell_type": "markdown",
   "metadata": {},
   "source": [
    "# Bayes Rule\n",
    "\n",
    "$$\n",
    "\\begin{align}\n",
    "p(x|y) &= \\dfrac{p(y|x)p(x)}{p(y)} \\\\\n",
    "p(y) &= \\sum_{x'}p(y|x')p(x'), \\text{(discrete)} \\\\\n",
    "p(y) &= \\int p(y|x')p(x')dx', \\text{(continuous)}\n",
    "\\end{align}\n",
    "$$\n",
    "\n",
    "And for multiple conditional variables:\n",
    "\n",
    "$$\n",
    "p(x|y,z) = \\dfrac{p(y|x,z)p(x|z)}{p(y|z)}\n",
    "$$\n"
   ]
  },
  {
   "cell_type": "markdown",
   "metadata": {},
   "source": [
    "# Belief\n",
    "\n",
    "$$\n",
    "\\begin{align}\n",
    "bel(x_t) & = p(x_t  | z_{1:t}, u_{1:t}) \\\\\n",
    "\\overline{bel}(x_t) & = p(x_t|z_{1:t-1}, u_{1:t})\n",
    "\\end{align}\n",
    "$$\n",
    "\n"
   ]
  },
  {
   "cell_type": "markdown",
   "metadata": {},
   "source": [
    "# Bayes Filter\n",
    "\n",
    "![Bayes Filter Psuedo code](../images/bayesFilter.PNG)"
   ]
  },
  {
   "cell_type": "markdown",
   "metadata": {},
   "source": [
    "* Line 3: Prediction Step\n",
    "* Line 4: Measurement Step"
   ]
  },
  {
   "cell_type": "markdown",
   "metadata": {},
   "source": [
    "# 2.4.2 Example"
   ]
  },
  {
   "cell_type": "code",
   "execution_count": 1,
   "metadata": {},
   "outputs": [
    {
     "name": "stdout",
     "output_type": "stream",
     "text": [
      "bel_bar_isOpen 0.5\n",
      "bel_open 0.7499999999999999 bel_close 0.25\n",
      "bel_bar_isOpen 0.95\n",
      "bel_open 0.9827586206896551 bel_close 0.017241379310344845\n"
     ]
    }
   ],
   "source": [
    "# Example in section 2.4.2 of the book\n",
    "def bayes_filter(bel_is_open, push, sense_is_open):\n",
    "    # constants\n",
    "    p_sOpen_g_isOpen = 0.6\n",
    "    p_sClose_g_isOpen = 1.0 - p_sOpen_g_isOpen\n",
    "    p_sOpen_g_isClose = 0.2\n",
    "    p_sClose_g_isClose = 1.0 - p_sOpen_g_isClose\n",
    "\n",
    "    p_isOpen_g_push_isOpen = 1.0\n",
    "    p_isClose_g_push_isOpen = 0.0\n",
    "    p_isOpen_g_push_isClose = 0.8\n",
    "    p_isClose_g_push_isClose = 0.2\n",
    "    \n",
    "    p_isOpen_g_NoPush_isOpen = 1.0\n",
    "    p_isClose_g_NoPush_isOpen = 0.0\n",
    "    p_isOpen_g_NoPush_isClose = 0.0\n",
    "    p_isClose_g_NoPush_isClose = 1.0\n",
    "    \n",
    "    # prediction step\n",
    "    if push:\n",
    "        bel_bar_isOpen = bel_is_open * p_isOpen_g_push_isOpen + \\\n",
    "                          (1.0-bel_is_open) * p_isOpen_g_push_isClose\n",
    "    else: \n",
    "        bel_bar_isOpen = bel_is_open * p_isOpen_g_NoPush_isOpen + \\\n",
    "                          (1-bel_is_open) * p_isOpen_g_NoPush_isClose\n",
    "    bel_bar_isClose = 1- bel_bar_isOpen\n",
    "    print(\"bel_bar_isOpen\", bel_bar_isOpen)\n",
    "    \n",
    "    # measurement step\n",
    "    if sense_is_open:\n",
    "        bel_open = bel_bar_isOpen * p_sOpen_g_isOpen\n",
    "        bel_close = bel_bar_isClose * p_sOpen_g_isClose\n",
    "    else: \n",
    "        bel_open = bel_bar_isOpen * p_sClose_g_isOpen\n",
    "        bel_close = bel_bar_isClose * p_sClose_g_isClose\n",
    "    \n",
    "    norm = bel_open + bel_close\n",
    "    bel_open, bel_close = bel_open/norm , bel_close/norm\n",
    "    print(\"bel_open\", bel_open, \"bel_close\", bel_close)\n",
    "    return bel_open\n",
    "\n",
    "bel_open = bayes_filter(0.5, False, True)\n",
    "bel_open = bayes_filter(bel_open, True, True)"
   ]
  },
  {
   "cell_type": "markdown",
   "metadata": {},
   "source": [
    "# 2.8 Exercises"
   ]
  },
  {
   "cell_type": "markdown",
   "metadata": {},
   "source": [
    "## 2.8.1 \n",
    "$$\n",
    "\\begin{align}\n",
    "p(\\text{measurement}) &= \\text{Uniform}(0,3) \\\\\n",
    "p(\\text{measurement} | \\text{sensor is faulty}) &= \\text{Uniform(0,1)}, \\text{If faulty, it always outputs below 1} \\\\\n",
    "p(\\text{sensor is faulty at time 0}) &= 0.01\n",
    "\\end{align}\n",
    "$$\n",
    "\n",
    "Suppose sensor does n times measurement and every measurement is under 1 m. What is the posterior probability of sensor being faulty for $n=1, 2, ..., 10$"
   ]
  },
  {
   "cell_type": "code",
   "execution_count": 2,
   "metadata": {},
   "outputs": [
    {
     "name": "stdout",
     "output_type": "stream",
     "text": [
      "0 0.029411764705882356 0.9705882352941176\n",
      "1 0.08333333333333336 0.9166666666666666\n",
      "2 0.21428571428571433 0.7857142857142856\n",
      "3 0.4500000000000001 0.5499999999999999\n",
      "4 0.7105263157894738 0.28947368421052616\n",
      "5 0.8804347826086957 0.1195652173913043\n",
      "6 0.9566929133858268 0.04330708661417322\n",
      "7 0.9851351351351352 0.014864864864864838\n",
      "8 0.9949954504094632 0.005004549590536838\n",
      "9 0.9983262325015216 0.0016737674984783609\n"
     ]
    }
   ],
   "source": [
    "def bayes_filter(bel_faulty):\n",
    "    \n",
    "    # prediction:\n",
    "    p_faulty_g_faulty = 1.0\n",
    "    p_Nfaulty_g_faulty = 0.0\n",
    "    p_faulty_g_Nfaulty = 0.0\n",
    "    p_Nfaulty_g_Nfaulty = 1.0\n",
    "    \n",
    "    bel_bar_faulty = bel_faulty * p_faulty_g_faulty + (1-bel_faulty) * p_faulty_g_Nfaulty\n",
    "    bel_bar_Nfaulty = 1 - bel_bar_faulty\n",
    "    # basically nothing changes in prediction step.\n",
    "    # and bel_bar_faulty = bel_faulty\n",
    "    # because we do not have any action here?\n",
    "    \n",
    "    # measurement\n",
    "    p_measerment_under_1_g_faulty = 1.0\n",
    "    p_measerment_under_1_g_Nfaulty = 1.0/3.0\n",
    "    bel_faulty = bel_bar_faulty * p_measerment_under_1_g_faulty\n",
    "    bel_Nfaulty = bel_bar_Nfaulty * p_measerment_under_1_g_Nfaulty\n",
    "    \n",
    "    # normalization\n",
    "    s = bel_faulty + bel_Nfaulty\n",
    "    bel_faulty, bel_Nfaulty = bel_faulty/s, bel_Nfaulty/s\n",
    "    return bel_faulty, bel_Nfaulty\n",
    "\n",
    "bel_faulty = 0.01\n",
    "for idx in range(10):\n",
    "    bel_faulty, bel_Nfaulty= bayes_filter(bel_faulty)\n",
    "    print (idx, bel_faulty, bel_Nfaulty)"
   ]
  },
  {
   "cell_type": "markdown",
   "metadata": {},
   "source": [
    "## 2.8.2\n",
    "\n",
    "Days are either sunny, cloudy, or rainy. The weather transition function is a Markov chain with a given transition table in the book.\n",
    "\n",
    "### a) \n",
    "suppose day 1 is sunny, what is the probability of the following sequence of days: Day2 = cloudy, Day3 = cloudy, Day4 = rainy?"
   ]
  },
  {
   "cell_type": "code",
   "execution_count": 3,
   "metadata": {},
   "outputs": [
    {
     "data": {
      "text/plain": [
       "0.016000000000000004"
      ]
     },
     "execution_count": 3,
     "metadata": {},
     "output_type": "execute_result"
    }
   ],
   "source": [
    "0.2*0.4*0.2"
   ]
  },
  {
   "cell_type": "markdown",
   "metadata": {},
   "source": [
    "### b)\n",
    "Write a simulator that can randomly generate sequences of “weathers” from this state transition function."
   ]
  },
  {
   "cell_type": "code",
   "execution_count": 4,
   "metadata": {
    "scrolled": true
   },
   "outputs": [
    {
     "name": "stdout",
     "output_type": "stream",
     "text": [
      "Weather.RAINY\n",
      "Weather.CLOUDY\n",
      "Weather.CLOUDY\n",
      "Weather.CLOUDY\n",
      "Weather.CLOUDY\n",
      "Weather.CLOUDY\n",
      "Weather.SUNNY\n",
      "Weather.SUNNY\n",
      "Weather.SUNNY\n",
      "Weather.SUNNY\n",
      "Weather.SUNNY\n"
     ]
    }
   ],
   "source": [
    "import numpy as np\n",
    "from collections import OrderedDict\n",
    "from typing import List\n",
    "from enum import Enum\n",
    "\n",
    "class Weather(Enum):\n",
    "    SUNNY = 0\n",
    "    CLOUDY = 1\n",
    "    RAINY = 2\n",
    "\n",
    "class StateTransition:\n",
    "    OPTIONS = [Weather(i) for i in range(3)]\n",
    "    def __init__(self, state: Weather,transition_probs: List[float]):\n",
    "        self.transition_probs = transition_probs\n",
    "        self.state = state\n",
    "    \n",
    "    def sample(self):\n",
    "        return np.random.choice(StateTransition.OPTIONS, p = self.transition_probs)\n",
    "\n",
    "class MarkovChain:\n",
    "    def __init__(self):\n",
    "        self.states = [\n",
    "            StateTransition(Weather.SUNNY, [0.8,0.2,0.0]),\n",
    "            StateTransition(Weather.CLOUDY,[0.4,0.4,0.2]),\n",
    "            StateTransition(Weather.RAINY,[0.2,0.6,0.2])\n",
    "        ]\n",
    "    \n",
    "    def sample(self, state: Weather):\n",
    "        idx = state.value\n",
    "        return self.states[idx].sample()\n",
    "\n",
    "mc = MarkovChain()\n",
    "state = Weather.RAINY # init state\n",
    "print(state)\n",
    "for _ in range (10):\n",
    "    state = mc.sample(state)\n",
    "    print(state)"
   ]
  },
  {
   "cell_type": "markdown",
   "metadata": {},
   "source": [
    "### c)\n",
    "Use your simulator to determine the stationary distribution of this Markov chain. The stationary distribution measures the probability that a random day will be sunny, cloudy, or rainy."
   ]
  },
  {
   "cell_type": "code",
   "execution_count": 5,
   "metadata": {},
   "outputs": [
    {
     "name": "stdout",
     "output_type": "stream",
     "text": [
      "{<Weather.SUNNY: 0>: 0.6439, <Weather.CLOUDY: 1>: 0.2864, <Weather.RAINY: 2>: 0.0697}\n"
     ]
    }
   ],
   "source": [
    "number_of_runs = 10000\n",
    "length_of_runs = 100\n",
    "states = []\n",
    "for _ in range(number_of_runs):\n",
    "    state = np.random.choice(StateTransition.OPTIONS)\n",
    "    mc = MarkovChain()\n",
    "    for _ in range(length_of_runs):\n",
    "        state = mc.sample(state)\n",
    "    states.append(state)\n",
    "\n",
    "stationary_dist = {}\n",
    "\n",
    "for opt in StateTransition.OPTIONS:\n",
    "    count = 0\n",
    "    for state in states:\n",
    "        if state == opt:\n",
    "            count = count + 1\n",
    "    stationary_dist[opt] = count / len(states)\n",
    "\n",
    "print(stationary_dist)"
   ]
  },
  {
   "cell_type": "markdown",
   "metadata": {},
   "source": [
    "### d)\n",
    "calculate the same as above analytically"
   ]
  },
  {
   "cell_type": "code",
   "execution_count": 9,
   "metadata": {},
   "outputs": [
    {
     "name": "stdout",
     "output_type": "stream",
     "text": [
      "answer: [0.64285714 0.28571429 0.07142857]\n"
     ]
    }
   ],
   "source": [
    "transitions = np.array([[0.8, 0.2, 0], \n",
    "                        [0.4, 0.4, 0.2], \n",
    "                        [0.2, 0.6, 0.2]\n",
    "                       ], dtype = np.float).T\n",
    "w,v = np.linalg.eig(transitions)\n",
    "stationary_dist_analytical = (v @ np.diag([1.0, 0., 0.]) @ np.linalg.inv(v))[:,0]\n",
    "# Why there is an eigenvalue of 1:\n",
    "# https://math.stackexchange.com/questions/351142/why-markov-matrices-always-have-1-as-an-eigenvalue\n",
    "print(\"answer:\", stationary_dist_analytical)"
   ]
  },
  {
   "cell_type": "code",
   "execution_count": 7,
   "metadata": {},
   "outputs": [
    {
     "data": {
      "text/plain": [
       "[0.6428571428571429, 0.2857142857142857, 0.07142857142857142]"
      ]
     },
     "execution_count": 7,
     "metadata": {},
     "output_type": "execute_result"
    }
   ],
   "source": [
    "# from https://github.com/pptacher/probabilistic_robotics/blob/master/ch2_recursive_state_estimation/ch2_recursive_state_estimation.pdf\n",
    "[9/14.0, 2/7.0, 1/14.0]"
   ]
  },
  {
   "cell_type": "markdown",
   "metadata": {},
   "source": [
    "### e)\n",
    "Caluculate entropy of the stationary dist\n",
    "\n",
    "$$\n",
    "H_p = - \\sum_{x} p(x) log_2 p(x)\n",
    "$$"
   ]
  },
  {
   "cell_type": "code",
   "execution_count": 10,
   "metadata": {},
   "outputs": [
    {
     "name": "stdout",
     "output_type": "stream",
     "text": [
      "enrtopy 1.1981174211304029\n"
     ]
    }
   ],
   "source": [
    "import math\n",
    "entropy = -1 * sum([p * math.log2(p) for p in stationary_dist_analytical])\n",
    "print(f'enrtopy {entropy}')"
   ]
  }
 ],
 "metadata": {
  "kernelspec": {
   "display_name": "Python 3.7.7 64-bit ('robo37': conda)",
   "language": "python",
   "name": "python37764bitrobo37conda5d5bb05ba5df456180d13dc4509db3f7"
  },
  "language_info": {
   "codemirror_mode": {
    "name": "ipython",
    "version": 3
   },
   "file_extension": ".py",
   "mimetype": "text/x-python",
   "name": "python",
   "nbconvert_exporter": "python",
   "pygments_lexer": "ipython3",
   "version": "3.7.7"
  }
 },
 "nbformat": 4,
 "nbformat_minor": 2
}
